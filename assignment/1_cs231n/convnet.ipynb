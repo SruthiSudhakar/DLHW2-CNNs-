{
  "nbformat": 4,
  "nbformat_minor": 0,
  "metadata": {
    "kernelspec": {
      "display_name": "Python 3",
      "language": "python",
      "name": "python3"
    },
    "language_info": {
      "codemirror_mode": {
        "name": "ipython",
        "version": 3
      },
      "file_extension": ".py",
      "mimetype": "text/x-python",
      "name": "python",
      "nbconvert_exporter": "python",
      "pygments_lexer": "ipython3",
      "version": "3.7.1"
    },
    "colab": {
      "name": "convnet.ipynb",
      "provenance": [],
      "toc_visible": true
    },
    "accelerator": "GPU"
  },
  "cells": [
    {
      "cell_type": "markdown",
      "metadata": {
        "id": "-C1CigrTkHW0",
        "colab_type": "text"
      },
      "source": [
        "# Train a ConvNet!\n",
        "We now have a generic solver and a bunch of modularized layers. It's time to put it all together, and train a ConvNet to recognize the classes in CIFAR-10. In this notebook we will walk you through training a simple two-layer ConvNet and then set you free to build the best net that you can to perform well on CIFAR-10.\n",
        "\n",
        "Open up the file `cs231n/classifiers/convnet.py`; you will see that the `two_layer_convnet` function computes the loss and gradients for a two-layer ConvNet. Note that this function uses the \"sandwich\" layers defined in `cs231n/layer_utils.py`. "
      ]
    },
    {
      "cell_type": "code",
      "metadata": {
        "id": "wiGYEOq9kHXA",
        "colab_type": "code",
        "colab": {}
      },
      "source": [
        "# As usual, a bit of setup\n",
        "\n",
        "import numpy as np\n",
        "import matplotlib.pyplot as plt\n",
        "from cs231n.classifier_trainer import ClassifierTrainer\n",
        "from cs231n.gradient_check import eval_numerical_gradient\n",
        "from cs231n.classifiers.convnet import *\n",
        "\n",
        "%matplotlib inline\n",
        "plt.rcParams['figure.figsize'] = (10.0, 8.0) # set default size of plots\n",
        "plt.rcParams['image.interpolation'] = 'nearest'\n",
        "plt.rcParams['image.cmap'] = 'gray'\n",
        "\n",
        "# for auto-reloading external modules\n",
        "# see http://stackoverflow.com/questions/1907993/autoreload-of-modules-in-ipython\n",
        "%load_ext autoreload\n",
        "%autoreload 2\n",
        "\n",
        "def rel_error(x, y):\n",
        "  \"\"\" returns relative error \"\"\"\n",
        "  return np.max(np.abs(x - y) / (np.maximum(1e-8, np.abs(x) + np.abs(y))))"
      ],
      "execution_count": 3,
      "outputs": []
    },
    {
      "cell_type": "code",
      "metadata": {
        "id": "eMyq4ziokHXZ",
        "colab_type": "code",
        "colab": {
          "base_uri": "https://localhost:8080/",
          "height": 121
        },
        "outputId": "0bd6fded-4bca-49f7-f30b-0dca87d320f4"
      },
      "source": [
        "from cs231n.data_utils import load_CIFAR10\n",
        "\n",
        "def get_CIFAR10_data(num_training=49000, num_validation=1000, num_test=1000):\n",
        "    \"\"\"\n",
        "    Load the CIFAR-10 dataset from disk and perform preprocessing to prepare\n",
        "    it for the two-layer neural net classifier. These are the same steps as\n",
        "    we used for the SVM, but condensed to a single function.  \n",
        "    \"\"\"\n",
        "    # Load the raw CIFAR-10 data\n",
        "    cifar10_dir = 'cs231n/datasets/cifar-10-batches-py'\n",
        "    X_train, y_train, X_test, y_test = load_CIFAR10(cifar10_dir)\n",
        "        \n",
        "    # Subsample the data\n",
        "    mask = range(num_training, num_training + num_validation)\n",
        "    X_val = X_train[mask]\n",
        "    y_val = y_train[mask]\n",
        "    mask = range(num_training)\n",
        "    X_train = X_train[mask]\n",
        "    y_train = y_train[mask]\n",
        "    mask = range(num_test)\n",
        "    X_test = X_test[mask]\n",
        "    y_test = y_test[mask]\n",
        "\n",
        "    # Normalize the data: subtract the mean image\n",
        "    mean_image = np.mean(X_train, axis=0)\n",
        "    X_train -= mean_image\n",
        "    X_val -= mean_image\n",
        "    X_test -= mean_image\n",
        "    \n",
        "    # Transpose so that channels come first\n",
        "    X_train = X_train.transpose(0, 3, 1, 2).copy()\n",
        "    X_val = X_val.transpose(0, 3, 1, 2).copy()\n",
        "    x_test = X_test.transpose(0, 3, 1, 2).copy()\n",
        "\n",
        "    return X_train, y_train, X_val, y_val, X_test, y_test\n",
        "\n",
        "\n",
        "# Invoke the above function to get our data.\n",
        "X_train, y_train, X_val, y_val, X_test, y_test = get_CIFAR10_data()\n",
        "print('Train data shape: ', X_train.shape)\n",
        "print('Train labels shape: ', y_train.shape)\n",
        "print('Validation data shape: ', X_val.shape)\n",
        "print('Validation labels shape: ', y_val.shape)\n",
        "print('Test data shape: ', X_test.shape)\n",
        "print('Test labels shape: ', y_test.shape)"
      ],
      "execution_count": 4,
      "outputs": [
        {
          "output_type": "stream",
          "text": [
            "Train data shape:  (49000, 3, 32, 32)\n",
            "Train labels shape:  (49000,)\n",
            "Validation data shape:  (1000, 3, 32, 32)\n",
            "Validation labels shape:  (1000,)\n",
            "Test data shape:  (1000, 32, 32, 3)\n",
            "Test labels shape:  (1000,)\n"
          ],
          "name": "stdout"
        }
      ]
    },
    {
      "cell_type": "markdown",
      "metadata": {
        "id": "__dq3ZGGkHXh",
        "colab_type": "text"
      },
      "source": [
        "# Sanity check loss\n",
        "After you build a new network, one of the first things you should do is sanity check the loss. When we use the softmax loss, we expect the loss for random weights (and no regularization) to be about `log(C)` for `C` classes. When we add regularization this should go up."
      ]
    },
    {
      "cell_type": "code",
      "metadata": {
        "id": "VgvXMfL0kHXi",
        "colab_type": "code",
        "colab": {
          "base_uri": "https://localhost:8080/",
          "height": 51
        },
        "outputId": "42913a6a-d6c0-4e46-dc20-d2bc4cea6f2d"
      },
      "source": [
        "model = init_two_layer_convnet()\n",
        "\n",
        "X = np.random.randn(100, 3, 32, 32)\n",
        "y = np.random.randint(10, size=100)\n",
        "\n",
        "loss, _ = two_layer_convnet(X, model, y, reg=0)\n",
        "\n",
        "# Sanity check: Loss should be about log(10) = 2.3026\n",
        "print('Sanity check loss (no regularization): ', loss)\n",
        "\n",
        "# Sanity check: Loss should go up when you add regularization\n",
        "loss, _ = two_layer_convnet(X, model, y, reg=1)\n",
        "print('Sanity check loss (with regularization): ', loss)"
      ],
      "execution_count": 5,
      "outputs": [
        {
          "output_type": "stream",
          "text": [
            "Sanity check loss (no regularization):  2.3024942537348783\n",
            "Sanity check loss (with regularization):  2.3443364674260807\n"
          ],
          "name": "stdout"
        }
      ]
    },
    {
      "cell_type": "markdown",
      "metadata": {
        "id": "63BBUcXWkHX2",
        "colab_type": "text"
      },
      "source": [
        "# Gradient check\n",
        "After the loss looks reasonable, you should always use numeric gradient checking to make sure that your backward pass is correct. When you use numeric gradient checking you should use a small amount of artifical data and a small number of neurons at each layer."
      ]
    },
    {
      "cell_type": "code",
      "metadata": {
        "id": "eCEMoxbQkHX3",
        "colab_type": "code",
        "colab": {
          "base_uri": "https://localhost:8080/",
          "height": 86
        },
        "outputId": "f6850ca6-c33d-41b6-8c96-1da04316e70f"
      },
      "source": [
        "num_inputs = 2\n",
        "input_shape = (3, 16, 16)\n",
        "reg = 0.0\n",
        "num_classes = 10\n",
        "X = np.random.randn(num_inputs, *input_shape)\n",
        "y = np.random.randint(num_classes, size=num_inputs)\n",
        "\n",
        "model = init_two_layer_convnet(num_filters=3, filter_size=3, input_shape=input_shape)\n",
        "loss, grads = two_layer_convnet(X, model, y)\n",
        "for param_name in sorted(grads):\n",
        "    f = lambda _: two_layer_convnet(X, model, y)[0]\n",
        "    param_grad_num = eval_numerical_gradient(f, model[param_name], verbose=False, h=1e-6)\n",
        "    e = rel_error(param_grad_num, grads[param_name])\n",
        "    print('%s max relative error: %e' % (param_name, rel_error(param_grad_num, grads[param_name])))"
      ],
      "execution_count": 6,
      "outputs": [
        {
          "output_type": "stream",
          "text": [
            "W1 max relative error: 1.416301e-06\n",
            "W2 max relative error: 4.636411e-06\n",
            "b1 max relative error: 1.130980e-08\n",
            "b2 max relative error: 8.226398e-10\n"
          ],
          "name": "stdout"
        }
      ]
    },
    {
      "cell_type": "markdown",
      "metadata": {
        "id": "CqlRFqJpkHYV",
        "colab_type": "text"
      },
      "source": [
        "# Overfit small data\n",
        "A nice trick is to train your model with just a few training samples. You should be able to overfit small datasets, which will result in very high training accuracy and comparatively low validation accuracy."
      ]
    },
    {
      "cell_type": "code",
      "metadata": {
        "id": "0mPijccnkHYW",
        "colab_type": "code",
        "colab": {
          "base_uri": "https://localhost:8080/",
          "height": 311
        },
        "outputId": "68983783-7a2a-41ef-a6f8-b17bc3afbc30"
      },
      "source": [
        "# Use a two-layer ConvNet to overfit 50 training examples.\n",
        "\n",
        "model = init_two_layer_convnet()\n",
        "trainer = ClassifierTrainer()\n",
        "best_model, loss_history, train_acc_history, val_acc_history = trainer.train(\n",
        "          X_train[:50], y_train[:50], X_val, y_val, model, two_layer_convnet,\n",
        "          reg=0.001, momentum=0.9, learning_rate=0.0001, batch_size=10, num_epochs=10,\n",
        "          verbose=True)"
      ],
      "execution_count": 7,
      "outputs": [
        {
          "output_type": "stream",
          "text": [
            "starting iteration  0\n",
            "Finished epoch 0 / 10: cost 2.293451, train: 0.160000, val 0.093000, lr 1.000000e-04\n",
            "Finished epoch 1 / 10: cost 2.194749, train: 0.300000, val 0.148000, lr 9.500000e-05\n",
            "Finished epoch 2 / 10: cost 1.998509, train: 0.280000, val 0.128000, lr 9.025000e-05\n",
            "starting iteration  10\n",
            "Finished epoch 3 / 10: cost 1.878304, train: 0.420000, val 0.127000, lr 8.573750e-05\n",
            "Finished epoch 4 / 10: cost 1.295153, train: 0.400000, val 0.166000, lr 8.145062e-05\n",
            "starting iteration  20\n",
            "Finished epoch 5 / 10: cost 1.550190, train: 0.620000, val 0.162000, lr 7.737809e-05\n",
            "Finished epoch 6 / 10: cost 1.144751, train: 0.780000, val 0.157000, lr 7.350919e-05\n",
            "starting iteration  30\n",
            "Finished epoch 7 / 10: cost 0.466211, train: 0.820000, val 0.187000, lr 6.983373e-05\n",
            "Finished epoch 8 / 10: cost 0.467357, train: 0.840000, val 0.176000, lr 6.634204e-05\n",
            "starting iteration  40\n",
            "Finished epoch 9 / 10: cost 0.191292, train: 0.960000, val 0.180000, lr 6.302494e-05\n",
            "Finished epoch 10 / 10: cost 0.542685, train: 0.980000, val 0.173000, lr 5.987369e-05\n",
            "finished optimization. best validation accuracy: 0.187000\n"
          ],
          "name": "stdout"
        }
      ]
    },
    {
      "cell_type": "markdown",
      "metadata": {
        "id": "4Ub9rJ8akHYk",
        "colab_type": "text"
      },
      "source": [
        "Plotting the loss, training accuracy, and validation accuracy should show clear overfitting:"
      ]
    },
    {
      "cell_type": "code",
      "metadata": {
        "id": "tZgJ0nq7kHYm",
        "colab_type": "code",
        "colab": {
          "base_uri": "https://localhost:8080/",
          "height": 499
        },
        "outputId": "d23bcaa2-8963-403e-be81-9753702eb2c4"
      },
      "source": [
        "plt.subplot(2, 1, 1)\n",
        "plt.plot(loss_history)\n",
        "plt.xlabel('iteration')\n",
        "plt.ylabel('loss')\n",
        "\n",
        "plt.subplot(2, 1, 2)\n",
        "plt.plot(train_acc_history)\n",
        "plt.plot(val_acc_history)\n",
        "plt.legend(['train', 'val'], loc='upper left')\n",
        "plt.xlabel('epoch')\n",
        "plt.ylabel('accuracy')\n",
        "plt.show()"
      ],
      "execution_count": 8,
      "outputs": [
        {
          "output_type": "display_data",
          "data": {
            "image/png": "[encoded data removed]",
            "text/plain": [
              "<Figure size 720x576 with 2 Axes>"
            ]
          },
          "metadata": {
            "tags": [],
            "needs_background": "light"
          }
        }
      ]
    },
    {
      "cell_type": "markdown",
      "metadata": {
        "id": "VlUDdIfRkHZW",
        "colab_type": "text"
      },
      "source": [
        "# Train the net\n",
        "Once the above works, training the net is the next thing to try. You can set the `acc_frequency` parameter to change the frequency at which the training and validation set accuracies are tested. If your parameters are set properly, you should see the training and validation accuracy start to improve within a hundred iterations, and you should be able to train a reasonable model with just one epoch.\n",
        "\n",
        "Using the parameters below you should be able to get around 50% accuracy on the validation set."
      ]
    },
    {
      "cell_type": "code",
      "metadata": {
        "scrolled": false,
        "id": "h25qqbU6kHZX",
        "colab_type": "code",
        "colab": {
          "base_uri": "https://localhost:8080/",
          "height": 467
        },
        "outputId": "0d9b9592-6897-4c0f-8b1a-766371ef8400"
      },
      "source": [
        "model = init_two_layer_convnet(filter_size=7)\n",
        "trainer = ClassifierTrainer()\n",
        "best_model, loss_history, train_acc_history, val_acc_history = trainer.train(\n",
        "          X_train, y_train, X_val, y_val, model, two_layer_convnet,\n",
        "          reg=0.1, momentum=0.9, learning_rate=0.0001, batch_size=256, num_epochs=1,\n",
        "          acc_frequency=50, verbose=True)"
      ],
      "execution_count": 11,
      "outputs": [
        {
          "output_type": "stream",
          "text": [
            "starting iteration  0\n",
            "Finished epoch 0 / 1: cost 2.317788, train: 0.084000, val 0.098000, lr 1.000000e-04\n",
            "starting iteration  10\n",
            "starting iteration  20\n",
            "starting iteration  30\n",
            "starting iteration  40\n",
            "starting iteration  50\n",
            "Finished epoch 0 / 1: cost 1.789126, train: 0.375000, val 0.389000, lr 1.000000e-04\n",
            "starting iteration  60\n",
            "starting iteration  70\n",
            "starting iteration  80\n",
            "starting iteration  90\n",
            "starting iteration  100\n",
            "Finished epoch 0 / 1: cost 1.636210, train: 0.463000, val 0.474000, lr 1.000000e-04\n",
            "starting iteration  110\n",
            "starting iteration  120\n",
            "starting iteration  130\n",
            "starting iteration  140\n",
            "starting iteration  150\n",
            "Finished epoch 0 / 1: cost 1.547649, train: 0.478000, val 0.489000, lr 1.000000e-04\n",
            "starting iteration  160\n",
            "starting iteration  170\n",
            "starting iteration  180\n",
            "starting iteration  190\n",
            "Finished epoch 1 / 1: cost 1.379095, train: 0.514000, val 0.520000, lr 9.500000e-05\n",
            "finished optimization. best validation accuracy: 0.520000\n"
          ],
          "name": "stdout"
        }
      ]
    },
    {
      "cell_type": "markdown",
      "metadata": {
        "id": "w0Wu46zEkJck",
        "colab_type": "text"
      },
      "source": [
        "# Visualize weights\n",
        "We can visualize the convolutional weights from the first layer. If everything worked properly, these will usually be edges and blobs of various colors and orientations."
      ]
    },
    {
      "cell_type": "code",
      "metadata": {
        "id": "uANnAtUnkJco",
        "colab_type": "code",
        "colab": {
          "base_uri": "https://localhost:8080/",
          "height": 500
        },
        "outputId": "74c34160-19a4-4646-ef8a-fc4d4f439620"
      },
      "source": [
        "from cs231n.vis_utils import visualize_grid\n",
        "\n",
        "grid = visualize_grid(best_model['W1'].transpose(0, 2, 3, 1))\n",
        "plt.imshow(grid.astype('uint8'))"
      ],
      "execution_count": 12,
      "outputs": [
        {
          "output_type": "execute_result",
          "data": {
            "text/plain": [
              "<matplotlib.image.AxesImage at 0x7f1e3a71ef60>"
            ]
          },
          "metadata": {
            "tags": []
          },
          "execution_count": 12
        },
        {
          "output_type": "display_data",
          "data": {
            "image/png": "[encoded data removed]",
            "text/plain": [
              "<Figure size 720x576 with 1 Axes>"
            ]
          },
          "metadata": {
            "tags": [],
            "needs_background": "light"
          }
        }
      ]
    }
  ]
}